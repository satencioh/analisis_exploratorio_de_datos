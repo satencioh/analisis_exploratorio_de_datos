{
 "cells": [
  {
   "cell_type": "code",
   "execution_count": 18,
   "metadata": {},
   "outputs": [],
   "source": [
    "import pandas as pd\n",
    "import plotly.express as px"
   ]
  },
  {
   "cell_type": "code",
   "execution_count": 19,
   "metadata": {},
   "outputs": [],
   "source": [
    "data_chicago = 'https://raw.githubusercontent.com/terranigmark/curso-analisis-exploratorio-datos-platzi/main/Traffic_Crashes1.csv'\n",
    "token_map_plot='pk.eyJ1IjoiY2hlbWlza3kiLCJhIjoiY2tnOGNhcXk3MGZ3eDJ5b2FxZ3ViajN1MyJ9.t3R24lWTwzTQwyJw4vuWFw'"
   ]
  },
  {
   "cell_type": "code",
   "execution_count": 20,
   "metadata": {},
   "outputs": [
    {
     "data": {
      "text/html": [
       "<div>\n",
       "<style scoped>\n",
       "    .dataframe tbody tr th:only-of-type {\n",
       "        vertical-align: middle;\n",
       "    }\n",
       "\n",
       "    .dataframe tbody tr th {\n",
       "        vertical-align: top;\n",
       "    }\n",
       "\n",
       "    .dataframe thead th {\n",
       "        text-align: right;\n",
       "    }\n",
       "</style>\n",
       "<table border=\"1\" class=\"dataframe\">\n",
       "  <thead>\n",
       "    <tr style=\"text-align: right;\">\n",
       "      <th></th>\n",
       "      <th>Unnamed: 0</th>\n",
       "      <th>CRASH_RECORD_ID</th>\n",
       "      <th>RD_NO</th>\n",
       "      <th>CRASH_DATE_EST_I</th>\n",
       "      <th>CRASH_DATE</th>\n",
       "      <th>POSTED_SPEED_LIMIT</th>\n",
       "      <th>TRAFFIC_CONTROL_DEVICE</th>\n",
       "      <th>DEVICE_CONDITION</th>\n",
       "      <th>WEATHER_CONDITION</th>\n",
       "      <th>LIGHTING_CONDITION</th>\n",
       "      <th>...</th>\n",
       "      <th>INJURIES_REPORTED_NOT_EVIDENT</th>\n",
       "      <th>INJURIES_NO_INDICATION</th>\n",
       "      <th>INJURIES_UNKNOWN</th>\n",
       "      <th>CRASH_HOUR</th>\n",
       "      <th>CRASH_DAY_OF_WEEK</th>\n",
       "      <th>CRASH_MONTH</th>\n",
       "      <th>LATITUDE</th>\n",
       "      <th>LONGITUDE</th>\n",
       "      <th>LOCATION</th>\n",
       "      <th>date_real</th>\n",
       "    </tr>\n",
       "  </thead>\n",
       "  <tbody>\n",
       "    <tr>\n",
       "      <th>0</th>\n",
       "      <td>290702</td>\n",
       "      <td>9e97e92753166de921a0e87199513aa841142c6fbb3a1e...</td>\n",
       "      <td>JA154528</td>\n",
       "      <td>NaN</td>\n",
       "      <td>2017-02-14 10:00:00</td>\n",
       "      <td>30</td>\n",
       "      <td>NO CONTROLS</td>\n",
       "      <td>NO CONTROLS</td>\n",
       "      <td>CLEAR</td>\n",
       "      <td>DAYLIGHT</td>\n",
       "      <td>...</td>\n",
       "      <td>0.0</td>\n",
       "      <td>1.0</td>\n",
       "      <td>0.0</td>\n",
       "      <td>10</td>\n",
       "      <td>3</td>\n",
       "      <td>2</td>\n",
       "      <td>42.001676</td>\n",
       "      <td>-87.666364</td>\n",
       "      <td>POINT (-87.666364005301 42.001675862416)</td>\n",
       "      <td>2017-02-14</td>\n",
       "    </tr>\n",
       "    <tr>\n",
       "      <th>1</th>\n",
       "      <td>405524</td>\n",
       "      <td>e5fe82ab7757d630a7f79927113bc63b5bede0cda74665...</td>\n",
       "      <td>JC391213</td>\n",
       "      <td>NaN</td>\n",
       "      <td>2019-08-13 19:12:00</td>\n",
       "      <td>35</td>\n",
       "      <td>TRAFFIC SIGNAL</td>\n",
       "      <td>FUNCTIONING PROPERLY</td>\n",
       "      <td>CLEAR</td>\n",
       "      <td>DAYLIGHT</td>\n",
       "      <td>...</td>\n",
       "      <td>0.0</td>\n",
       "      <td>8.0</td>\n",
       "      <td>0.0</td>\n",
       "      <td>19</td>\n",
       "      <td>3</td>\n",
       "      <td>8</td>\n",
       "      <td>41.940041</td>\n",
       "      <td>-87.650923</td>\n",
       "      <td>POINT (-87.650923222567 41.940040917032)</td>\n",
       "      <td>2019-08-13</td>\n",
       "    </tr>\n",
       "    <tr>\n",
       "      <th>2</th>\n",
       "      <td>261834</td>\n",
       "      <td>8c8ea6db9e1950765419429e2732ba5598fc6f87ac9e0c...</td>\n",
       "      <td>JC273287</td>\n",
       "      <td>NaN</td>\n",
       "      <td>2019-05-22 08:30:00</td>\n",
       "      <td>25</td>\n",
       "      <td>STOP SIGN/FLASHER</td>\n",
       "      <td>FUNCTIONING PROPERLY</td>\n",
       "      <td>RAIN</td>\n",
       "      <td>DAYLIGHT</td>\n",
       "      <td>...</td>\n",
       "      <td>0.0</td>\n",
       "      <td>2.0</td>\n",
       "      <td>0.0</td>\n",
       "      <td>8</td>\n",
       "      <td>4</td>\n",
       "      <td>5</td>\n",
       "      <td>41.955854</td>\n",
       "      <td>-87.710645</td>\n",
       "      <td>POINT (-87.710644534923 41.955853610383)</td>\n",
       "      <td>2019-05-22</td>\n",
       "    </tr>\n",
       "    <tr>\n",
       "      <th>3</th>\n",
       "      <td>38519</td>\n",
       "      <td>02671b7d36a9d189d607778816fec23bbb2e5ac3cd3039...</td>\n",
       "      <td>JA307115</td>\n",
       "      <td>NaN</td>\n",
       "      <td>2017-06-14 16:50:00</td>\n",
       "      <td>0</td>\n",
       "      <td>UNKNOWN</td>\n",
       "      <td>UNKNOWN</td>\n",
       "      <td>UNKNOWN</td>\n",
       "      <td>UNKNOWN</td>\n",
       "      <td>...</td>\n",
       "      <td>0.0</td>\n",
       "      <td>2.0</td>\n",
       "      <td>0.0</td>\n",
       "      <td>16</td>\n",
       "      <td>4</td>\n",
       "      <td>6</td>\n",
       "      <td>41.863734</td>\n",
       "      <td>-87.676313</td>\n",
       "      <td>POINT (-87.676312689993 41.863734390899)</td>\n",
       "      <td>2017-06-14</td>\n",
       "    </tr>\n",
       "    <tr>\n",
       "      <th>4</th>\n",
       "      <td>420197</td>\n",
       "      <td>ef1b1d450f65c6d16245dffdd3304d93b8be7d7bbf47f3...</td>\n",
       "      <td>JB247942</td>\n",
       "      <td>NaN</td>\n",
       "      <td>2018-05-03 08:35:00</td>\n",
       "      <td>30</td>\n",
       "      <td>NO CONTROLS</td>\n",
       "      <td>NO CONTROLS</td>\n",
       "      <td>RAIN</td>\n",
       "      <td>DAYLIGHT</td>\n",
       "      <td>...</td>\n",
       "      <td>0.0</td>\n",
       "      <td>2.0</td>\n",
       "      <td>0.0</td>\n",
       "      <td>8</td>\n",
       "      <td>5</td>\n",
       "      <td>5</td>\n",
       "      <td>41.851794</td>\n",
       "      <td>-87.695223</td>\n",
       "      <td>POINT (-87.695223114296 41.851794251516)</td>\n",
       "      <td>2018-05-03</td>\n",
       "    </tr>\n",
       "  </tbody>\n",
       "</table>\n",
       "<p>5 rows × 51 columns</p>\n",
       "</div>"
      ],
      "text/plain": [
       "   Unnamed: 0                                    CRASH_RECORD_ID     RD_NO  \\\n",
       "0      290702  9e97e92753166de921a0e87199513aa841142c6fbb3a1e...  JA154528   \n",
       "1      405524  e5fe82ab7757d630a7f79927113bc63b5bede0cda74665...  JC391213   \n",
       "2      261834  8c8ea6db9e1950765419429e2732ba5598fc6f87ac9e0c...  JC273287   \n",
       "3       38519  02671b7d36a9d189d607778816fec23bbb2e5ac3cd3039...  JA307115   \n",
       "4      420197  ef1b1d450f65c6d16245dffdd3304d93b8be7d7bbf47f3...  JB247942   \n",
       "\n",
       "  CRASH_DATE_EST_I           CRASH_DATE  POSTED_SPEED_LIMIT  \\\n",
       "0              NaN  2017-02-14 10:00:00                  30   \n",
       "1              NaN  2019-08-13 19:12:00                  35   \n",
       "2              NaN  2019-05-22 08:30:00                  25   \n",
       "3              NaN  2017-06-14 16:50:00                   0   \n",
       "4              NaN  2018-05-03 08:35:00                  30   \n",
       "\n",
       "  TRAFFIC_CONTROL_DEVICE      DEVICE_CONDITION WEATHER_CONDITION  \\\n",
       "0            NO CONTROLS           NO CONTROLS             CLEAR   \n",
       "1         TRAFFIC SIGNAL  FUNCTIONING PROPERLY             CLEAR   \n",
       "2      STOP SIGN/FLASHER  FUNCTIONING PROPERLY              RAIN   \n",
       "3                UNKNOWN               UNKNOWN           UNKNOWN   \n",
       "4            NO CONTROLS           NO CONTROLS              RAIN   \n",
       "\n",
       "  LIGHTING_CONDITION  ... INJURIES_REPORTED_NOT_EVIDENT  \\\n",
       "0           DAYLIGHT  ...                           0.0   \n",
       "1           DAYLIGHT  ...                           0.0   \n",
       "2           DAYLIGHT  ...                           0.0   \n",
       "3            UNKNOWN  ...                           0.0   \n",
       "4           DAYLIGHT  ...                           0.0   \n",
       "\n",
       "  INJURIES_NO_INDICATION  INJURIES_UNKNOWN CRASH_HOUR CRASH_DAY_OF_WEEK  \\\n",
       "0                    1.0               0.0         10                 3   \n",
       "1                    8.0               0.0         19                 3   \n",
       "2                    2.0               0.0          8                 4   \n",
       "3                    2.0               0.0         16                 4   \n",
       "4                    2.0               0.0          8                 5   \n",
       "\n",
       "  CRASH_MONTH   LATITUDE  LONGITUDE                                  LOCATION  \\\n",
       "0           2  42.001676 -87.666364  POINT (-87.666364005301 42.001675862416)   \n",
       "1           8  41.940041 -87.650923  POINT (-87.650923222567 41.940040917032)   \n",
       "2           5  41.955854 -87.710645  POINT (-87.710644534923 41.955853610383)   \n",
       "3           6  41.863734 -87.676313  POINT (-87.676312689993 41.863734390899)   \n",
       "4           5  41.851794 -87.695223  POINT (-87.695223114296 41.851794251516)   \n",
       "\n",
       "    date_real  \n",
       "0  2017-02-14  \n",
       "1  2019-08-13  \n",
       "2  2019-05-22  \n",
       "3  2017-06-14  \n",
       "4  2018-05-03  \n",
       "\n",
       "[5 rows x 51 columns]"
      ]
     },
     "execution_count": 20,
     "metadata": {},
     "output_type": "execute_result"
    }
   ],
   "source": [
    "df = pd.read_csv(data_chicago)\n",
    "df.head()"
   ]
  },
  {
   "cell_type": "code",
   "execution_count": 21,
   "metadata": {},
   "outputs": [
    {
     "name": "stdout",
     "output_type": "stream",
     "text": [
      "<class 'pandas.core.frame.DataFrame'>\n",
      "RangeIndex: 27961 entries, 0 to 27960\n",
      "Data columns (total 51 columns):\n",
      " #   Column                         Non-Null Count  Dtype  \n",
      "---  ------                         --------------  -----  \n",
      " 0   Unnamed: 0                     27961 non-null  int64  \n",
      " 1   CRASH_RECORD_ID                27961 non-null  object \n",
      " 2   RD_NO                          27713 non-null  object \n",
      " 3   CRASH_DATE_EST_I               2117 non-null   object \n",
      " 4   CRASH_DATE                     27961 non-null  object \n",
      " 5   POSTED_SPEED_LIMIT             27961 non-null  int64  \n",
      " 6   TRAFFIC_CONTROL_DEVICE         27961 non-null  object \n",
      " 7   DEVICE_CONDITION               27961 non-null  object \n",
      " 8   WEATHER_CONDITION              27961 non-null  object \n",
      " 9   LIGHTING_CONDITION             27961 non-null  object \n",
      " 10  FIRST_CRASH_TYPE               27961 non-null  object \n",
      " 11  TRAFFICWAY_TYPE                27961 non-null  object \n",
      " 12  LANE_CNT                       12418 non-null  float64\n",
      " 13  ALIGNMENT                      27961 non-null  object \n",
      " 14  ROADWAY_SURFACE_COND           27961 non-null  object \n",
      " 15  ROAD_DEFECT                    27961 non-null  object \n",
      " 16  REPORT_TYPE                    27294 non-null  object \n",
      " 17  CRASH_TYPE                     27961 non-null  object \n",
      " 18  INTERSECTION_RELATED_I         6155 non-null   object \n",
      " 19  NOT_RIGHT_OF_WAY_I             1356 non-null   object \n",
      " 20  HIT_AND_RUN_I                  7952 non-null   object \n",
      " 21  DAMAGE                         27961 non-null  object \n",
      " 22  DATE_POLICE_NOTIFIED           27961 non-null  object \n",
      " 23  PRIM_CONTRIBUTORY_CAUSE        27961 non-null  object \n",
      " 24  SEC_CONTRIBUTORY_CAUSE         27961 non-null  object \n",
      " 25  STREET_NO                      27961 non-null  int64  \n",
      " 26  STREET_DIRECTION               27960 non-null  object \n",
      " 27  STREET_NAME                    27961 non-null  object \n",
      " 28  BEAT_OF_OCCURRENCE             27960 non-null  float64\n",
      " 29  PHOTOS_TAKEN_I                 341 non-null    object \n",
      " 30  STATEMENTS_TAKEN_I             564 non-null    object \n",
      " 31  DOORING_I                      99 non-null     object \n",
      " 32  WORK_ZONE_I                    158 non-null    object \n",
      " 33  WORK_ZONE_TYPE                 125 non-null    object \n",
      " 34  WORKERS_PRESENT_I              41 non-null     object \n",
      " 35  NUM_UNITS                      27961 non-null  int64  \n",
      " 36  MOST_SEVERE_INJURY             27908 non-null  object \n",
      " 37  INJURIES_TOTAL                 27910 non-null  float64\n",
      " 38  INJURIES_FATAL                 27910 non-null  float64\n",
      " 39  INJURIES_INCAPACITATING        27910 non-null  float64\n",
      " 40  INJURIES_NON_INCAPACITATING    27910 non-null  float64\n",
      " 41  INJURIES_REPORTED_NOT_EVIDENT  27910 non-null  float64\n",
      " 42  INJURIES_NO_INDICATION         27910 non-null  float64\n",
      " 43  INJURIES_UNKNOWN               27910 non-null  float64\n",
      " 44  CRASH_HOUR                     27961 non-null  int64  \n",
      " 45  CRASH_DAY_OF_WEEK              27961 non-null  int64  \n",
      " 46  CRASH_MONTH                    27961 non-null  int64  \n",
      " 47  LATITUDE                       27800 non-null  float64\n",
      " 48  LONGITUDE                      27800 non-null  float64\n",
      " 49  LOCATION                       27800 non-null  object \n",
      " 50  date_real                      27961 non-null  object \n",
      "dtypes: float64(11), int64(7), object(33)\n",
      "memory usage: 10.9+ MB\n"
     ]
    }
   ],
   "source": [
    "df.info()"
   ]
  },
  {
   "cell_type": "code",
   "execution_count": 22,
   "metadata": {},
   "outputs": [],
   "source": [
    "df['CRASH_DATE'] = df['CRASH_DATE'].apply(lambda x: pd.to_datetime(x,errors='coerce',utc=True))"
   ]
  },
  {
   "cell_type": "code",
   "execution_count": 23,
   "metadata": {},
   "outputs": [],
   "source": [
    "df['NUM_UNITS'] = df['NUM_UNITS'].astype('int32')"
   ]
  },
  {
   "cell_type": "code",
   "execution_count": 24,
   "metadata": {},
   "outputs": [
    {
     "data": {
      "text/plain": [
       "<AxesSubplot:>"
      ]
     },
     "execution_count": 24,
     "metadata": {},
     "output_type": "execute_result"
    },
    {
     "data": {
      "image/png": "[encoded data removed]",
      "text/plain": [
       "<Figure size 432x288 with 1 Axes>"
      ]
     },
     "metadata": {
      "needs_background": "light"
     },
     "output_type": "display_data"
    }
   ],
   "source": [
    "df['NUM_UNITS'].plot()"
   ]
  },
  {
   "cell_type": "code",
   "execution_count": 26,
   "metadata": {},
   "outputs": [],
   "source": [
    "import scipy.stats as ss"
   ]
  },
  {
   "cell_type": "code",
   "execution_count": 27,
   "metadata": {},
   "outputs": [
    {
     "data": {
      "text/plain": [
       "0.21794501057510543"
      ]
     },
     "execution_count": 27,
     "metadata": {},
     "output_type": "execute_result"
    }
   ],
   "source": [
    "#desviacion estandar\n",
    "ss.variation(df['NUM_UNITS'])"
   ]
  },
  {
   "cell_type": "code",
   "execution_count": 29,
   "metadata": {},
   "outputs": [],
   "source": [
    "import matplotlib.pyplot as plt"
   ]
  },
  {
   "cell_type": "code",
   "execution_count": 31,
   "metadata": {},
   "outputs": [
    {
     "data": {
      "text/plain": [
       "(array([1.4740e+03, 2.4646e+04, 1.4720e+03, 2.5900e+02, 7.6000e+01,\n",
       "        2.1000e+01, 6.0000e+00, 2.0000e+00, 3.0000e+00, 2.0000e+00]),\n",
       " array([ 1.,  2.,  3.,  4.,  5.,  6.,  7.,  8.,  9., 10., 11.]),\n",
       " <BarContainer object of 10 artists>)"
      ]
     },
     "execution_count": 31,
     "metadata": {},
     "output_type": "execute_result"
    },
    {
     "data": {
      "image/png": "[encoded data removed]",
      "text/plain": [
       "<Figure size 432x288 with 1 Axes>"
      ]
     },
     "metadata": {
      "needs_background": "light"
     },
     "output_type": "display_data"
    }
   ],
   "source": [
    "#istribucion\n",
    "plt.hist(df['NUM_UNITS'])"
   ]
  },
  {
   "cell_type": "code",
   "execution_count": 34,
   "metadata": {},
   "outputs": [],
   "source": [
    "tab=pd.crosstab(index=df['CRASH_MONTH'], columns='Frecuencia')"
   ]
  },
  {
   "cell_type": "code",
   "execution_count": 35,
   "metadata": {},
   "outputs": [
    {
     "data": {
      "text/plain": [
       "<BarContainer object of 12 artists>"
      ]
     },
     "execution_count": 35,
     "metadata": {},
     "output_type": "execute_result"
    },
    {
     "data": {
      "image/png": "[encoded data removed]",
      "text/plain": [
       "<Figure size 432x288 with 1 Axes>"
      ]
     },
     "metadata": {
      "needs_background": "light"
     },
     "output_type": "display_data"
    }
   ],
   "source": [
    "plt.bar(tab.index, tab['Frecuencia'])"
   ]
  },
  {
   "cell_type": "code",
   "execution_count": null,
   "metadata": {},
   "outputs": [],
   "source": []
  }
 ],
 "metadata": {
  "kernelspec": {
   "display_name": "Python 3",
   "language": "python",
   "name": "python3"
  },
  "language_info": {
   "codemirror_mode": {
    "name": "ipython",
    "version": 3
   },
   "file_extension": ".py",
   "mimetype": "text/x-python",
   "name": "python",
   "nbconvert_exporter": "python",
   "pygments_lexer": "ipython3",
   "version": "3.8.5"
  }
 },
 "nbformat": 4,
 "nbformat_minor": 4
}
